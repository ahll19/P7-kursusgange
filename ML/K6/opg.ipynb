{
 "cells": [
  {
   "cell_type": "code",
   "execution_count": 10,
   "metadata": {},
   "outputs": [],
   "source": [
    "import numpy as np\n",
    "import matplotlib.pyplot as plt\n",
    "import os\n",
    "\n",
    "\n",
    "def largest_indices(ary, n):\n",
    "    \"\"\"Returns the n largest indices from a numpy array.\"\"\"\n",
    "    flat = ary.flatten()\n",
    "    indices = np.argpartition(flat, -n)[-n:]\n",
    "    indices = indices[np.argsort(-flat[indices])]\n",
    "    return np.unravel_index(indices, ary.shape)[0]\n",
    "\n",
    "\n",
    "n_dim = 2"
   ]
  },
  {
   "cell_type": "code",
   "execution_count": 12,
   "metadata": {},
   "outputs": [],
   "source": [
    "# import data\n",
    "path = os.getcwd() \n",
    "\n",
    "test = []\n",
    "train = []\n",
    "\n",
    "for i in range(10):\n",
    "    test.append(np.loadtxt(path + f\"/data/test{i}.txt\"))\n",
    "    train.append(np.loadtxt(path + f\"/data/train{i}.txt\"))\n",
    "\n",
    "test_stack = np.vstack(test)\n",
    "train_stack = np.vstack(train)"
   ]
  },
  {
   "cell_type": "code",
   "execution_count": 11,
   "metadata": {},
   "outputs": [],
   "source": [
    "# Create projection matrices\n",
    "test_covariance = np.cov(test_stack.T)\n",
    "train_covariance = np.cov(train_stack.T)\n",
    "\n",
    "test_eigenvalues, test_eigenvectors = np.linalg.eig(test_covariance)\n",
    "train_eigenvalues, train_eigenvectors = np.linalg.eig(train_covariance)\n",
    "\n",
    "largest_idx = largest_indices(train_eigenvalues, n_dim)\n",
    "proj_matrix = np.vstack([train_eigenvectors[:, idx] for idx in largest_idx]).T"
   ]
  },
  {
   "cell_type": "code",
   "execution_count": null,
   "metadata": {},
   "outputs": [],
   "source": [
    "# Project test data\n",
    "sample_mean = np.mean(test_stack, axis = 0)\n"
   ]
  }
 ],
 "metadata": {
  "kernelspec": {
   "display_name": "Python 3.10.6 ('uni_python')",
   "language": "python",
   "name": "python3"
  },
  "language_info": {
   "codemirror_mode": {
    "name": "ipython",
    "version": 3
   },
   "file_extension": ".py",
   "mimetype": "text/x-python",
   "name": "python",
   "nbconvert_exporter": "python",
   "pygments_lexer": "ipython3",
   "version": "3.10.6"
  },
  "orig_nbformat": 4,
  "vscode": {
   "interpreter": {
    "hash": "dffeb5d5d60ad7e8157925030d2fb867867025db2e2d26da9e7bf712089e2da9"
   }
  }
 },
 "nbformat": 4,
 "nbformat_minor": 2
}
