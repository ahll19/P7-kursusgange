{
 "cells": [
  {
   "cell_type": "markdown",
   "metadata": {},
   "source": [
    "## Mix the data"
   ]
  },
  {
   "cell_type": "code",
   "execution_count": 56,
   "metadata": {},
   "outputs": [],
   "source": [
    "import numpy as np\n",
    "import pandas as pd\n",
    "import matplotlib.pyplot as plt\n",
    "from scipy.stats import multivariate_normal as mn\n",
    "\n",
    "\n",
    "trn5 = np.array(pd.read_csv('trn5.csv', index_col=0)).T\n",
    "trn6 = np.array(pd.read_csv('trn6.csv', index_col=0)).T\n",
    "trn8 = np.array(pd.read_csv('trn8.csv', index_col=0)).T\n",
    "\n",
    "mix = np.vstack([trn5,trn6,trn8])"
   ]
  },
  {
   "cell_type": "markdown",
   "metadata": {},
   "source": [
    "## Initialization\n",
    "Vi bruger k-means til at finde initial means.\n",
    "\n",
    "Vi bruger apriori at vi har 3 forskellige grupperinger.\n",
    "\n",
    "Vi kunne have lavet en $\\varepsilon$ som var en tolerance imellem means, som når vores iterativ ændring er mindre stopper vi algoritmen"
   ]
  },
  {
   "cell_type": "code",
   "execution_count": 57,
   "metadata": {},
   "outputs": [],
   "source": [
    "k = 3\n",
    "iter = 100\n",
    "idxs = [np.random.randint(0, mix.shape[0]) for i in range(k)]\n",
    "initials = [mix[idx] for idx in idxs]\n",
    "\n",
    "means = initials\n",
    "\n",
    "for i in range(iter):\n",
    "    # calculate distances to all means\n",
    "    collections = {f\"c{i+1}\":[] for i in range(k)}\n",
    "    distances = []\n",
    "    for mean in means:\n",
    "        distances.append(np.hypot(*(mix - mean).T))\n",
    "    distances = np.array(distances)\n",
    "    \n",
    "    # classify points according to distances\n",
    "    for j, d in enumerate(distances.T):\n",
    "        l = np.argmin(d)\n",
    "        collections[f\"c{l+1}\"].append(mix[j])\n",
    "    \n",
    "    # calculate new means\n",
    "    means = []\n",
    "    for key in [f\"c{j+1}\" for j in range(k)]:\n",
    "        points = np.array(collections[key])\n",
    "        mean = np.mean(points, axis=0)\n",
    "        means.append(mean)\n",
    "\n",
    "def plot():\n",
    "    plt.title(\"Classification based on euclidian distance to means\")\n",
    "    for key in collections:\n",
    "        vals = np.array(collections[key])\n",
    "        plt.scatter(vals[:, 0], vals[:, 1], label=key)\n",
    "\n",
    "    means = np.array(means)\n",
    "    plt.scatter(means[:, 0], means[:, 1], label=\"means\")\n",
    "    plt.legend()\n",
    "    plt.show()"
   ]
  },
  {
   "cell_type": "code",
   "execution_count": 71,
   "metadata": {},
   "outputs": [],
   "source": [
    "# Create the initial covariances and priors\n",
    "variances = []\n",
    "priors = []\n",
    "for key in collections:\n",
    "    # covariance\n",
    "    vals = np.array(collections[key])\n",
    "    cov = np.cov(vals.T)\n",
    "    variances.append(cov)\n",
    "\n",
    "    # priors\n",
    "    n = len(vals)\n",
    "    pg = n / len(mix)\n",
    "    priors.append(pg)"
   ]
  },
  {
   "cell_type": "code",
   "execution_count": 93,
   "metadata": {},
   "outputs": [],
   "source": [
    "def E_step(data, means, variances, prios, k=3):\n",
    "    h = np.zeros((len(data), k))\n",
    "    for i, dat in enumerate(data):\n",
    "        h_row = np.zeros((1, k))\n",
    "        bot = 0\n",
    "        \n",
    "        for j, (mean, cov, prior) in enumerate(zip(means, variances, priors)):\n",
    "            top = mn.pdf(dat, mean=mean, cov=cov) * prior\n",
    "            h_row[0, j] = top\n",
    "            bot += top\n",
    "        \n",
    "        h_row /= bot\n",
    "        h[i] = np.copy(h_row)\n",
    "\n",
    "    return h\n",
    "\n",
    "\n",
    "test = E_step(mix, means, variances, priors)"
   ]
  },
  {
   "cell_type": "code",
   "execution_count": null,
   "metadata": {},
   "outputs": [],
   "source": [
    "def M_step(data, means, h):\n",
    "    pass"
   ]
  }
 ],
 "metadata": {
  "kernelspec": {
   "display_name": "Python 3.10.6 ('uni_python')",
   "language": "python",
   "name": "python3"
  },
  "language_info": {
   "codemirror_mode": {
    "name": "ipython",
    "version": 3
   },
   "file_extension": ".py",
   "mimetype": "text/x-python",
   "name": "python",
   "nbconvert_exporter": "python",
   "pygments_lexer": "ipython3",
   "version": "3.10.6"
  },
  "orig_nbformat": 4,
  "vscode": {
   "interpreter": {
    "hash": "dffeb5d5d60ad7e8157925030d2fb867867025db2e2d26da9e7bf712089e2da9"
   }
  }
 },
 "nbformat": 4,
 "nbformat_minor": 2
}
