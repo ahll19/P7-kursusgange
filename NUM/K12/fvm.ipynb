{
 "cells": [
  {
   "cell_type": "code",
   "execution_count": 1,
   "metadata": {},
   "outputs": [],
   "source": [
    "import numpy as np\n",
    "import matplotlib.pyplot as plt"
   ]
  },
  {
   "cell_type": "markdown",
   "metadata": {},
   "source": [
    "Brug den styrende ligning til at lave central/forward/backward difference approximations\n",
    "$$\n",
    "    \\int\\dfrac{d}{dx}\\left( \\dfrac{dT}{dx} \\right)dx + S_u = 0.\n",
    "$$\n",
    "\n",
    "$S_u$ finded ved at tage\n",
    "$$\n",
    "    S_u=\\int S dV = \\bar{S}\\Delta V = S \\delta x A\n",
    "$$\n",
    "\n",
    "Opstil lineære ligninger for at lave matrice system\n",
    "\\begin{align}\n",
    "    \\begin{bmatrix}\n",
    "        \\dfrac{3kA}{\\delta x} & \\dfrac{-kA}{\\delta x} & 0                     & \\cdots                & 0                     \\\\\n",
    "        \\dfrac{-kA}{\\delta x} & \\dfrac{2kA}{\\delta x} & \\dfrac{-kA}{\\delta x} & \\cdots                & 0                     \\\\\n",
    "        \\vdots                & \\dfrac{-kA}{\\delta x} & \\dfrac{2kA}{\\delta x} & \\dfrac{-kA}{\\delta x} & \\vdots                \\\\\n",
    "        \\vdots                & \\ddots                & \\ddots                & \\ddots                & \\vdots                \\\\\n",
    "        0                     & \\cdots                & 0                     & \\dfrac{-kA}{\\delta x} & \\dfrac{3kA}{\\delta x}\n",
    "    \\end{bmatrix} \\begin{bmatrix}\n",
    "        T_1 \\\\\n",
    "        \\vdots \\\\\n",
    "        \\vdots \\\\\n",
    "        \\vdots \\\\\n",
    "        \\vdots \\\\\n",
    "        T_n\n",
    "    \\end{bmatrix} = \\begin{bmatrix}\n",
    "        \\frac{2kA}{\\delta x}T_A + S_u \\\\\n",
    "        S_u \\\\\n",
    "        \\vdots \\\\\n",
    "        \\vdots \\\\\n",
    "        \\vdots \\\\\n",
    "        S_u \\\\\n",
    "        \\frac{2kA}{\\delta x}T_b + S_u\n",
    "    \\end{bmatrix}\n",
    "\\end{align}"
   ]
  },
  {
   "cell_type": "code",
   "execution_count": 2,
   "metadata": {},
   "outputs": [],
   "source": [
    "TA = 100\n",
    "TB = 200\n",
    "n = 100\n",
    "t = 0.02\n",
    "S = 1000\n",
    "k = 0.5\n",
    "A = 1\n",
    "\n",
    "\n",
    "dx = t/n\n",
    "x = np.linspace(0,t,n)\n",
    "Su = S*dx*A"
   ]
  },
  {
   "cell_type": "code",
   "execution_count": 3,
   "metadata": {},
   "outputs": [],
   "source": [
    "K = np.zeros((n,n))\n",
    "coef1 = (3*k*A)/dx\n",
    "coef2 = -(k*A)/dx\n",
    "coef3 = (2*k*A)/dx"
   ]
  },
  {
   "cell_type": "code",
   "execution_count": 4,
   "metadata": {},
   "outputs": [],
   "source": [
    "K[0, 0] = coef1\n",
    "K[-1, -1] = coef1\n",
    "K[1:-1, 1:-1][np.diag_indices_from(K[1:-1, 1:-1])] =  coef3\n",
    "K[1:, :-1][np.diag_indices_from(K[1:, :-1])] = coef2\n",
    "K[:-1, 1:][np.diag_indices_from(K[:-1, 1:])] = coef2\n",
    "\n",
    "Q = np.zeros(n) + Su\n",
    "Q[0] += coef3*TA\n",
    "Q[-1] += coef3*TB\n",
    "\n",
    "T = np.linalg.solve(K,Q)"
   ]
  },
  {
   "cell_type": "code",
   "execution_count": 5,
   "metadata": {},
   "outputs": [],
   "source": [
    "# exact sol\n",
    "def analytical_T(TA,TB,S,k,t,linspace):\n",
    "    return ((TB-TA)/t+(S/(2*k))*(t-x))*x+TA"
   ]
  },
  {
   "cell_type": "code",
   "execution_count": 6,
   "metadata": {},
   "outputs": [
    {
     "data": {
      "image/png": "[encoded data removed]",
      "text/plain": [
       "<Figure size 640x480 with 1 Axes>"
      ]
     },
     "metadata": {},
     "output_type": "display_data"
    }
   ],
   "source": [
    "plt.plot(x, analytical_T(TA,TB,Su,k,t,x), label=\"Analytical\")\n",
    "plt.plot(x, T, label=\"FVM\")\n",
    "plt.legend()\n",
    "plt.show()"
   ]
  },
  {
   "cell_type": "code",
   "execution_count": null,
   "metadata": {},
   "outputs": [],
   "source": []
  }
 ],
 "metadata": {
  "kernelspec": {
   "display_name": "Python 3.10.6 ('uni_python')",
   "language": "python",
   "name": "python3"
  },
  "language_info": {
   "codemirror_mode": {
    "name": "ipython",
    "version": 3
   },
   "file_extension": ".py",
   "mimetype": "text/x-python",
   "name": "python",
   "nbconvert_exporter": "python",
   "pygments_lexer": "ipython3",
   "version": "3.10.6"
  },
  "orig_nbformat": 4,
  "vscode": {
   "interpreter": {
    "hash": "dffeb5d5d60ad7e8157925030d2fb867867025db2e2d26da9e7bf712089e2da9"
   }
  }
 },
 "nbformat": 4,
 "nbformat_minor": 2
}
